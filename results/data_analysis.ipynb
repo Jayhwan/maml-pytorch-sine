{
 "cells": [
  {
   "cell_type": "code",
   "execution_count": 13,
   "metadata": {},
   "outputs": [],
   "source": [
    "import os\n",
    "from os.path import join as pjoin\n",
    "\n",
    "import numpy as np\n",
    "import pandas as pd\n",
    "from collections import defaultdict\n",
    "import matplotlib.pyplot as plt\n",
    "import seaborn as sns"
   ]
  },
  {
   "cell_type": "code",
   "execution_count": 14,
   "metadata": {},
   "outputs": [],
   "source": [
    "algorithms = [\"maml\", \"tr_maml\", \"taro_maml\", \"vmaml\", \"imaml\"]"
   ]
  },
  {
   "cell_type": "code",
   "execution_count": 15,
   "metadata": {},
   "outputs": [],
   "source": [
    "inner_steps_range = [5]\n",
    "K_range = [10]\n",
    "seed_range = list(range(5))"
   ]
  },
  {
   "cell_type": "code",
   "execution_count": 16,
   "metadata": {},
   "outputs": [],
   "source": [
    "results = {}\n",
    "results[\"MSE(mean)\"] = defaultdict(list)\n",
    "results[\"MSE(worst)\"] = defaultdict(list)\n",
    "results[\"MSE(std)\"] = defaultdict(list)\n",
    "results[\"MSE(top 90)\"] = defaultdict(list)\n",
    "results[\"MSE(top 95)\"] = defaultdict(list)"
   ]
  },
  {
   "cell_type": "code",
   "execution_count": 17,
   "metadata": {},
   "outputs": [
    {
     "name": "stdout",
     "output_type": "stream",
     "text": [
      "MSE(mean)\tmaml_step_5_K_10    \t1.66 ± 0.88\n",
      "MSE(mean)\ttr_maml_step_5_K_10 \t1.62 ± 0.47\n",
      "MSE(mean)\ttaro_maml_step_5_K_10\t1.25 ± 0.36\n",
      "MSE(mean)\tvmaml_step_5_K_10   \t0.78 ± 0.14\n",
      "MSE(mean)\timaml_step_5_K_10   \t1.02 ± 0.17\n",
      "\n",
      "MSE(worst)\tmaml_step_5_K_10    \t13.42 ± 5.95\n",
      "MSE(worst)\ttr_maml_step_5_K_10 \t13.73 ± 2.65\n",
      "MSE(worst)\ttaro_maml_step_5_K_10\t12.20 ± 4.22\n",
      "MSE(worst)\tvmaml_step_5_K_10   \t8.49 ± 1.95\n",
      "MSE(worst)\timaml_step_5_K_10   \t9.88 ± 1.09\n",
      "\n",
      "MSE(std)\tmaml_step_5_K_10    \t1.97 ± 0.95\n",
      "MSE(std)\ttr_maml_step_5_K_10 \t1.98 ± 0.50\n",
      "MSE(std)\ttaro_maml_step_5_K_10\t1.55 ± 0.48\n",
      "MSE(std)\tvmaml_step_5_K_10   \t0.85 ± 0.10\n",
      "MSE(std)\timaml_step_5_K_10   \t1.21 ± 0.16\n",
      "\n",
      "MSE(top 90)\tmaml_step_5_K_10    \t1.13 ± 0.62\n",
      "MSE(top 90)\ttr_maml_step_5_K_10 \t1.08 ± 0.34\n",
      "MSE(top 90)\ttaro_maml_step_5_K_10\t0.82 ± 0.24\n",
      "MSE(top 90)\tvmaml_step_5_K_10   \t0.56 ± 0.12\n",
      "MSE(top 90)\timaml_step_5_K_10   \t0.69 ± 0.14\n",
      "\n",
      "MSE(top 95)\tmaml_step_5_K_10    \t1.34 ± 0.73\n",
      "MSE(top 95)\ttr_maml_step_5_K_10 \t1.29 ± 0.40\n",
      "MSE(top 95)\ttaro_maml_step_5_K_10\t0.99 ± 0.29\n",
      "MSE(top 95)\tvmaml_step_5_K_10   \t0.64 ± 0.13\n",
      "MSE(top 95)\timaml_step_5_K_10   \t0.82 ± 0.15\n",
      "\n"
     ]
    }
   ],
   "source": [
    "for algo in algorithms:\n",
    "    for inner_steps in inner_steps_range:\n",
    "        for K in K_range:\n",
    "            for seed in seed_range:\n",
    "                datetime = os.listdir(pjoin(\"sine\", algo, f\"step_{inner_steps}\", f\"K_{K}\", f\"seed_{seed}\"))[-1]\n",
    "                loss = np.load(pjoin(\"sine\", algo, f\"step_{inner_steps}\", f\"K_{K}\", f\"seed_{seed}\", datetime, \"performance.npy\"))\n",
    "                # loss = loss.reshape(25, -1).mean(axis=0)\n",
    "                results[\"MSE(mean)\"][f\"{algo}_step_{inner_steps}_K_{K}\"].append(np.mean(loss))\n",
    "                results[\"MSE(worst)\"][f\"{algo}_step_{inner_steps}_K_{K}\"].append(np.max(loss))\n",
    "                results[\"MSE(std)\"][f\"{algo}_step_{inner_steps}_K_{K}\"].append(np.std(loss))\n",
    "                results[\"MSE(top 90)\"][f\"{algo}_step_{inner_steps}_K_{K}\"].append(np.mean(np.sort(loss)[:int(0.9*len(loss))]))\n",
    "                results[\"MSE(top 95)\"][f\"{algo}_step_{inner_steps}_K_{K}\"].append(np.mean(np.sort(loss)[:int(0.95*len(loss))]))\n",
    "                \n",
    "                \n",
    "for k1, v1 in results.items():\n",
    "    for k2, v2 in v1.items():\n",
    "        v2 = np.array(v2)\n",
    "        print(f\"{k1}\\t{k2:20s}\\t{np.mean(v2):.2f} \\xb1 {np.std(v2):.2f}\")\n",
    "    print()"
   ]
  },
  {
   "cell_type": "code",
   "execution_count": 18,
   "metadata": {},
   "outputs": [],
   "source": [
    "df = pd.DataFrame(results)\n",
    "df[\"MSE(mean)\"] = df[\"MSE(mean)\"].apply(lambda x: f\"{np.mean(x):.2f} \\xb1 {np.std(x):.2f}\")\n",
    "df[\"MSE(worst)\"] = df[\"MSE(worst)\"].apply(lambda x: f\"{np.mean(x):.2f} \\xb1 {np.std(x):.2f}\")\n",
    "df[\"MSE(std)\"] = df[\"MSE(std)\"].apply(lambda x: f\"{np.mean(x):.2f} \\xb1 {np.std(x):.2f}\")\n",
    "df[\"MSE(top 90)\"] = df[\"MSE(top 90)\"].apply(lambda x: f\"{np.mean(x):.2f} \\xb1 {np.std(x):.2f}\")\n",
    "df[\"MSE(top 95)\"] = df[\"MSE(top 95)\"].apply(lambda x: f\"{np.mean(x):.2f} \\xb1 {np.std(x):.2f}\")"
   ]
  },
  {
   "cell_type": "code",
   "execution_count": 19,
   "metadata": {},
   "outputs": [
    {
     "data": {
      "text/html": [
       "<div>\n",
       "<style scoped>\n",
       "    .dataframe tbody tr th:only-of-type {\n",
       "        vertical-align: middle;\n",
       "    }\n",
       "\n",
       "    .dataframe tbody tr th {\n",
       "        vertical-align: top;\n",
       "    }\n",
       "\n",
       "    .dataframe thead th {\n",
       "        text-align: right;\n",
       "    }\n",
       "</style>\n",
       "<table border=\"1\" class=\"dataframe\">\n",
       "  <thead>\n",
       "    <tr style=\"text-align: right;\">\n",
       "      <th></th>\n",
       "      <th>MSE(mean)</th>\n",
       "      <th>MSE(worst)</th>\n",
       "      <th>MSE(std)</th>\n",
       "      <th>MSE(top 90)</th>\n",
       "      <th>MSE(top 95)</th>\n",
       "    </tr>\n",
       "  </thead>\n",
       "  <tbody>\n",
       "    <tr>\n",
       "      <th>maml_step_5_K_10</th>\n",
       "      <td>1.66 ± 0.88</td>\n",
       "      <td>13.42 ± 5.95</td>\n",
       "      <td>1.97 ± 0.95</td>\n",
       "      <td>1.13 ± 0.62</td>\n",
       "      <td>1.34 ± 0.73</td>\n",
       "    </tr>\n",
       "    <tr>\n",
       "      <th>tr_maml_step_5_K_10</th>\n",
       "      <td>1.62 ± 0.47</td>\n",
       "      <td>13.73 ± 2.65</td>\n",
       "      <td>1.98 ± 0.50</td>\n",
       "      <td>1.08 ± 0.34</td>\n",
       "      <td>1.29 ± 0.40</td>\n",
       "    </tr>\n",
       "    <tr>\n",
       "      <th>taro_maml_step_5_K_10</th>\n",
       "      <td>1.25 ± 0.36</td>\n",
       "      <td>12.20 ± 4.22</td>\n",
       "      <td>1.55 ± 0.48</td>\n",
       "      <td>0.82 ± 0.24</td>\n",
       "      <td>0.99 ± 0.29</td>\n",
       "    </tr>\n",
       "    <tr>\n",
       "      <th>vmaml_step_5_K_10</th>\n",
       "      <td>0.78 ± 0.14</td>\n",
       "      <td>8.49 ± 1.95</td>\n",
       "      <td>0.85 ± 0.10</td>\n",
       "      <td>0.56 ± 0.12</td>\n",
       "      <td>0.64 ± 0.13</td>\n",
       "    </tr>\n",
       "    <tr>\n",
       "      <th>imaml_step_5_K_10</th>\n",
       "      <td>1.02 ± 0.17</td>\n",
       "      <td>9.88 ± 1.09</td>\n",
       "      <td>1.21 ± 0.16</td>\n",
       "      <td>0.69 ± 0.14</td>\n",
       "      <td>0.82 ± 0.15</td>\n",
       "    </tr>\n",
       "  </tbody>\n",
       "</table>\n",
       "</div>"
      ],
      "text/plain": [
       "                         MSE(mean)    MSE(worst)     MSE(std)  MSE(top 90)  \\\n",
       "maml_step_5_K_10       1.66 ± 0.88  13.42 ± 5.95  1.97 ± 0.95  1.13 ± 0.62   \n",
       "tr_maml_step_5_K_10    1.62 ± 0.47  13.73 ± 2.65  1.98 ± 0.50  1.08 ± 0.34   \n",
       "taro_maml_step_5_K_10  1.25 ± 0.36  12.20 ± 4.22  1.55 ± 0.48  0.82 ± 0.24   \n",
       "vmaml_step_5_K_10      0.78 ± 0.14   8.49 ± 1.95  0.85 ± 0.10  0.56 ± 0.12   \n",
       "imaml_step_5_K_10      1.02 ± 0.17   9.88 ± 1.09  1.21 ± 0.16  0.69 ± 0.14   \n",
       "\n",
       "                       MSE(top 95)  \n",
       "maml_step_5_K_10       1.34 ± 0.73  \n",
       "tr_maml_step_5_K_10    1.29 ± 0.40  \n",
       "taro_maml_step_5_K_10  0.99 ± 0.29  \n",
       "vmaml_step_5_K_10      0.64 ± 0.13  \n",
       "imaml_step_5_K_10      0.82 ± 0.15  "
      ]
     },
     "execution_count": 19,
     "metadata": {},
     "output_type": "execute_result"
    }
   ],
   "source": [
    "df.head()"
   ]
  },
  {
   "cell_type": "code",
   "execution_count": null,
   "metadata": {},
   "outputs": [],
   "source": []
  }
 ],
 "metadata": {
  "kernelspec": {
   "display_name": "varimaml",
   "language": "python",
   "name": "python3"
  },
  "language_info": {
   "codemirror_mode": {
    "name": "ipython",
    "version": 3
   },
   "file_extension": ".py",
   "mimetype": "text/x-python",
   "name": "python",
   "nbconvert_exporter": "python",
   "pygments_lexer": "ipython3",
   "version": "3.8.16"
  },
  "orig_nbformat": 4
 },
 "nbformat": 4,
 "nbformat_minor": 2
}
